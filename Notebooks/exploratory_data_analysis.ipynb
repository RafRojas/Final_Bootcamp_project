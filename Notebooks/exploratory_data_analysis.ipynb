{
 "cells": [
  {
   "cell_type": "markdown",
   "id": "88f4dbb9",
   "metadata": {},
   "source": [
    "### Import Libraries:"
   ]
  },
  {
   "cell_type": "code",
   "execution_count": 1,
   "id": "a3ada93c",
   "metadata": {},
   "outputs": [],
   "source": [
    "import pandas as pd\n",
    "import numpy as np\n",
    "import matplotlib.pyplot as plt\n",
    "import seaborn as sns"
   ]
  },
  {
   "cell_type": "markdown",
   "id": "1f8d1ebc",
   "metadata": {},
   "source": [
    "### Load data:"
   ]
  },
  {
   "cell_type": "code",
   "execution_count": 2,
   "id": "347bea0e",
   "metadata": {},
   "outputs": [
    {
     "data": {
      "text/html": [
       "<div>\n",
       "<style scoped>\n",
       "    .dataframe tbody tr th:only-of-type {\n",
       "        vertical-align: middle;\n",
       "    }\n",
       "\n",
       "    .dataframe tbody tr th {\n",
       "        vertical-align: top;\n",
       "    }\n",
       "\n",
       "    .dataframe thead th {\n",
       "        text-align: right;\n",
       "    }\n",
       "</style>\n",
       "<table border=\"1\" class=\"dataframe\">\n",
       "  <thead>\n",
       "    <tr style=\"text-align: right;\">\n",
       "      <th></th>\n",
       "      <th>gender</th>\n",
       "      <th>ethnicity</th>\n",
       "      <th>parental_education</th>\n",
       "      <th>lunch</th>\n",
       "      <th>test_preparation_course</th>\n",
       "      <th>pass/fail_math</th>\n",
       "      <th>math_score</th>\n",
       "      <th>pass/fail_reading</th>\n",
       "      <th>reading_score</th>\n",
       "      <th>pass/fail_writing</th>\n",
       "      <th>writing_score</th>\n",
       "      <th>failed_courses</th>\n",
       "      <th>midterm_results</th>\n",
       "      <th>average_grade</th>\n",
       "    </tr>\n",
       "  </thead>\n",
       "  <tbody>\n",
       "    <tr>\n",
       "      <th>0</th>\n",
       "      <td>M</td>\n",
       "      <td>A</td>\n",
       "      <td>high school</td>\n",
       "      <td>standard</td>\n",
       "      <td>yes</td>\n",
       "      <td>passed</td>\n",
       "      <td>67</td>\n",
       "      <td>passed</td>\n",
       "      <td>67</td>\n",
       "      <td>passed</td>\n",
       "      <td>63</td>\n",
       "      <td>good standing</td>\n",
       "      <td>good standing</td>\n",
       "      <td>65.67</td>\n",
       "    </tr>\n",
       "    <tr>\n",
       "      <th>1</th>\n",
       "      <td>F</td>\n",
       "      <td>D</td>\n",
       "      <td>no high school</td>\n",
       "      <td>reduced</td>\n",
       "      <td>no</td>\n",
       "      <td>failed</td>\n",
       "      <td>40</td>\n",
       "      <td>failed</td>\n",
       "      <td>59</td>\n",
       "      <td>failed</td>\n",
       "      <td>55</td>\n",
       "      <td>math/reading</td>\n",
       "      <td>summer school</td>\n",
       "      <td>51.33</td>\n",
       "    </tr>\n",
       "    <tr>\n",
       "      <th>2</th>\n",
       "      <td>M</td>\n",
       "      <td>E</td>\n",
       "      <td>high school</td>\n",
       "      <td>reduced</td>\n",
       "      <td>no</td>\n",
       "      <td>failed</td>\n",
       "      <td>59</td>\n",
       "      <td>passed</td>\n",
       "      <td>60</td>\n",
       "      <td>failed</td>\n",
       "      <td>50</td>\n",
       "      <td>math/writing</td>\n",
       "      <td>summer school</td>\n",
       "      <td>56.33</td>\n",
       "    </tr>\n",
       "    <tr>\n",
       "      <th>3</th>\n",
       "      <td>M</td>\n",
       "      <td>B</td>\n",
       "      <td>high school</td>\n",
       "      <td>standard</td>\n",
       "      <td>no</td>\n",
       "      <td>passed</td>\n",
       "      <td>77</td>\n",
       "      <td>passed</td>\n",
       "      <td>78</td>\n",
       "      <td>passed</td>\n",
       "      <td>68</td>\n",
       "      <td>good standing</td>\n",
       "      <td>good standing</td>\n",
       "      <td>74.33</td>\n",
       "    </tr>\n",
       "    <tr>\n",
       "      <th>4</th>\n",
       "      <td>M</td>\n",
       "      <td>E</td>\n",
       "      <td>associate</td>\n",
       "      <td>standard</td>\n",
       "      <td>yes</td>\n",
       "      <td>passed</td>\n",
       "      <td>78</td>\n",
       "      <td>passed</td>\n",
       "      <td>73</td>\n",
       "      <td>passed</td>\n",
       "      <td>68</td>\n",
       "      <td>good standing</td>\n",
       "      <td>good standing</td>\n",
       "      <td>73.00</td>\n",
       "    </tr>\n",
       "  </tbody>\n",
       "</table>\n",
       "</div>"
      ],
      "text/plain": [
       "  gender ethnicity parental_education     lunch test_preparation_course  \\\n",
       "0      M         A        high school  standard                     yes   \n",
       "1      F         D     no high school   reduced                      no   \n",
       "2      M         E        high school   reduced                      no   \n",
       "3      M         B        high school  standard                      no   \n",
       "4      M         E          associate  standard                     yes   \n",
       "\n",
       "  pass/fail_math  math_score pass/fail_reading  reading_score  \\\n",
       "0         passed          67            passed             67   \n",
       "1         failed          40            failed             59   \n",
       "2         failed          59            passed             60   \n",
       "3         passed          77            passed             78   \n",
       "4         passed          78            passed             73   \n",
       "\n",
       "  pass/fail_writing  writing_score failed_courses midterm_results  \\\n",
       "0            passed             63  good standing   good standing   \n",
       "1            failed             55   math/reading   summer school   \n",
       "2            failed             50   math/writing   summer school   \n",
       "3            passed             68  good standing   good standing   \n",
       "4            passed             68  good standing   good standing   \n",
       "\n",
       "   average_grade  \n",
       "0          65.67  \n",
       "1          51.33  \n",
       "2          56.33  \n",
       "3          74.33  \n",
       "4          73.00  "
      ]
     },
     "execution_count": 2,
     "metadata": {},
     "output_type": "execute_result"
    }
   ],
   "source": [
    "data = pd.read_csv('../data/clean/data_cleaned.csv')\n",
    "\n",
    "data.head()"
   ]
  },
  {
   "cell_type": "markdown",
   "id": "5bdb1bd5",
   "metadata": {},
   "source": [
    "### Checking the column types:"
   ]
  },
  {
   "cell_type": "markdown",
   "id": "48430f45",
   "metadata": {},
   "source": [
    "#### Numerical columns:"
   ]
  },
  {
   "cell_type": "code",
   "execution_count": 8,
   "id": "78160e64",
   "metadata": {},
   "outputs": [
    {
     "data": {
      "text/html": [
       "<div>\n",
       "<style scoped>\n",
       "    .dataframe tbody tr th:only-of-type {\n",
       "        vertical-align: middle;\n",
       "    }\n",
       "\n",
       "    .dataframe tbody tr th {\n",
       "        vertical-align: top;\n",
       "    }\n",
       "\n",
       "    .dataframe thead th {\n",
       "        text-align: right;\n",
       "    }\n",
       "</style>\n",
       "<table border=\"1\" class=\"dataframe\">\n",
       "  <thead>\n",
       "    <tr style=\"text-align: right;\">\n",
       "      <th></th>\n",
       "      <th>math_score</th>\n",
       "      <th>reading_score</th>\n",
       "      <th>writing_score</th>\n",
       "      <th>average_grade</th>\n",
       "    </tr>\n",
       "  </thead>\n",
       "  <tbody>\n",
       "    <tr>\n",
       "      <th>0</th>\n",
       "      <td>67</td>\n",
       "      <td>67</td>\n",
       "      <td>63</td>\n",
       "      <td>65.67</td>\n",
       "    </tr>\n",
       "    <tr>\n",
       "      <th>1</th>\n",
       "      <td>40</td>\n",
       "      <td>59</td>\n",
       "      <td>55</td>\n",
       "      <td>51.33</td>\n",
       "    </tr>\n",
       "    <tr>\n",
       "      <th>2</th>\n",
       "      <td>59</td>\n",
       "      <td>60</td>\n",
       "      <td>50</td>\n",
       "      <td>56.33</td>\n",
       "    </tr>\n",
       "    <tr>\n",
       "      <th>3</th>\n",
       "      <td>77</td>\n",
       "      <td>78</td>\n",
       "      <td>68</td>\n",
       "      <td>74.33</td>\n",
       "    </tr>\n",
       "    <tr>\n",
       "      <th>4</th>\n",
       "      <td>78</td>\n",
       "      <td>73</td>\n",
       "      <td>68</td>\n",
       "      <td>73.00</td>\n",
       "    </tr>\n",
       "  </tbody>\n",
       "</table>\n",
       "</div>"
      ],
      "text/plain": [
       "   math_score  reading_score  writing_score  average_grade\n",
       "0          67             67             63          65.67\n",
       "1          40             59             55          51.33\n",
       "2          59             60             50          56.33\n",
       "3          77             78             68          74.33\n",
       "4          78             73             68          73.00"
      ]
     },
     "execution_count": 8,
     "metadata": {},
     "output_type": "execute_result"
    }
   ],
   "source": [
    "numericals = data.select_dtypes(np.number)\n",
    "categoricals = data.select_dtypes(object)\n",
    "\n",
    "numericals.head()"
   ]
  },
  {
   "cell_type": "markdown",
   "id": "697220b7",
   "metadata": {},
   "source": [
    "#### Describing numericals:"
   ]
  },
  {
   "cell_type": "code",
   "execution_count": 12,
   "id": "00e0699d",
   "metadata": {},
   "outputs": [
    {
     "data": {
      "text/html": [
       "<div>\n",
       "<style scoped>\n",
       "    .dataframe tbody tr th:only-of-type {\n",
       "        vertical-align: middle;\n",
       "    }\n",
       "\n",
       "    .dataframe tbody tr th {\n",
       "        vertical-align: top;\n",
       "    }\n",
       "\n",
       "    .dataframe thead th {\n",
       "        text-align: right;\n",
       "    }\n",
       "</style>\n",
       "<table border=\"1\" class=\"dataframe\">\n",
       "  <thead>\n",
       "    <tr style=\"text-align: right;\">\n",
       "      <th></th>\n",
       "      <th>count</th>\n",
       "      <th>mean</th>\n",
       "      <th>std</th>\n",
       "      <th>min</th>\n",
       "      <th>25%</th>\n",
       "      <th>50%</th>\n",
       "      <th>75%</th>\n",
       "      <th>max</th>\n",
       "    </tr>\n",
       "  </thead>\n",
       "  <tbody>\n",
       "    <tr>\n",
       "      <th>math_score</th>\n",
       "      <td>1000.0</td>\n",
       "      <td>66.396</td>\n",
       "      <td>15.402871</td>\n",
       "      <td>13.00</td>\n",
       "      <td>56.000</td>\n",
       "      <td>66.50</td>\n",
       "      <td>77.00</td>\n",
       "      <td>100.0</td>\n",
       "    </tr>\n",
       "    <tr>\n",
       "      <th>reading_score</th>\n",
       "      <td>1000.0</td>\n",
       "      <td>69.002</td>\n",
       "      <td>14.737272</td>\n",
       "      <td>27.00</td>\n",
       "      <td>60.000</td>\n",
       "      <td>70.00</td>\n",
       "      <td>79.00</td>\n",
       "      <td>100.0</td>\n",
       "    </tr>\n",
       "    <tr>\n",
       "      <th>writing_score</th>\n",
       "      <td>1000.0</td>\n",
       "      <td>67.738</td>\n",
       "      <td>15.600985</td>\n",
       "      <td>23.00</td>\n",
       "      <td>58.000</td>\n",
       "      <td>68.00</td>\n",
       "      <td>79.00</td>\n",
       "      <td>100.0</td>\n",
       "    </tr>\n",
       "    <tr>\n",
       "      <th>average_grade</th>\n",
       "      <td>1000.0</td>\n",
       "      <td>67.712</td>\n",
       "      <td>14.514123</td>\n",
       "      <td>21.67</td>\n",
       "      <td>58.585</td>\n",
       "      <td>67.33</td>\n",
       "      <td>78.33</td>\n",
       "      <td>100.0</td>\n",
       "    </tr>\n",
       "  </tbody>\n",
       "</table>\n",
       "</div>"
      ],
      "text/plain": [
       "                count    mean        std    min     25%    50%    75%    max\n",
       "math_score     1000.0  66.396  15.402871  13.00  56.000  66.50  77.00  100.0\n",
       "reading_score  1000.0  69.002  14.737272  27.00  60.000  70.00  79.00  100.0\n",
       "writing_score  1000.0  67.738  15.600985  23.00  58.000  68.00  79.00  100.0\n",
       "average_grade  1000.0  67.712  14.514123  21.67  58.585  67.33  78.33  100.0"
      ]
     },
     "execution_count": 12,
     "metadata": {},
     "output_type": "execute_result"
    }
   ],
   "source": [
    "numericals.describe().T"
   ]
  },
  {
   "cell_type": "markdown",
   "id": "f9c6fb4b",
   "metadata": {},
   "source": [
    "#### Categorical columns:"
   ]
  },
  {
   "cell_type": "code",
   "execution_count": 11,
   "id": "27677f25",
   "metadata": {},
   "outputs": [
    {
     "data": {
      "text/html": [
       "<div>\n",
       "<style scoped>\n",
       "    .dataframe tbody tr th:only-of-type {\n",
       "        vertical-align: middle;\n",
       "    }\n",
       "\n",
       "    .dataframe tbody tr th {\n",
       "        vertical-align: top;\n",
       "    }\n",
       "\n",
       "    .dataframe thead th {\n",
       "        text-align: right;\n",
       "    }\n",
       "</style>\n",
       "<table border=\"1\" class=\"dataframe\">\n",
       "  <thead>\n",
       "    <tr style=\"text-align: right;\">\n",
       "      <th></th>\n",
       "      <th>gender</th>\n",
       "      <th>ethnicity</th>\n",
       "      <th>parental_education</th>\n",
       "      <th>lunch</th>\n",
       "      <th>test_preparation_course</th>\n",
       "      <th>pass/fail_math</th>\n",
       "      <th>pass/fail_reading</th>\n",
       "      <th>pass/fail_writing</th>\n",
       "      <th>failed_courses</th>\n",
       "      <th>midterm_results</th>\n",
       "    </tr>\n",
       "  </thead>\n",
       "  <tbody>\n",
       "    <tr>\n",
       "      <th>0</th>\n",
       "      <td>M</td>\n",
       "      <td>A</td>\n",
       "      <td>high school</td>\n",
       "      <td>standard</td>\n",
       "      <td>yes</td>\n",
       "      <td>passed</td>\n",
       "      <td>passed</td>\n",
       "      <td>passed</td>\n",
       "      <td>good standing</td>\n",
       "      <td>good standing</td>\n",
       "    </tr>\n",
       "    <tr>\n",
       "      <th>1</th>\n",
       "      <td>F</td>\n",
       "      <td>D</td>\n",
       "      <td>no high school</td>\n",
       "      <td>reduced</td>\n",
       "      <td>no</td>\n",
       "      <td>failed</td>\n",
       "      <td>failed</td>\n",
       "      <td>failed</td>\n",
       "      <td>math/reading</td>\n",
       "      <td>summer school</td>\n",
       "    </tr>\n",
       "    <tr>\n",
       "      <th>2</th>\n",
       "      <td>M</td>\n",
       "      <td>E</td>\n",
       "      <td>high school</td>\n",
       "      <td>reduced</td>\n",
       "      <td>no</td>\n",
       "      <td>failed</td>\n",
       "      <td>passed</td>\n",
       "      <td>failed</td>\n",
       "      <td>math/writing</td>\n",
       "      <td>summer school</td>\n",
       "    </tr>\n",
       "    <tr>\n",
       "      <th>3</th>\n",
       "      <td>M</td>\n",
       "      <td>B</td>\n",
       "      <td>high school</td>\n",
       "      <td>standard</td>\n",
       "      <td>no</td>\n",
       "      <td>passed</td>\n",
       "      <td>passed</td>\n",
       "      <td>passed</td>\n",
       "      <td>good standing</td>\n",
       "      <td>good standing</td>\n",
       "    </tr>\n",
       "    <tr>\n",
       "      <th>4</th>\n",
       "      <td>M</td>\n",
       "      <td>E</td>\n",
       "      <td>associate</td>\n",
       "      <td>standard</td>\n",
       "      <td>yes</td>\n",
       "      <td>passed</td>\n",
       "      <td>passed</td>\n",
       "      <td>passed</td>\n",
       "      <td>good standing</td>\n",
       "      <td>good standing</td>\n",
       "    </tr>\n",
       "  </tbody>\n",
       "</table>\n",
       "</div>"
      ],
      "text/plain": [
       "  gender ethnicity parental_education     lunch test_preparation_course  \\\n",
       "0      M         A        high school  standard                     yes   \n",
       "1      F         D     no high school   reduced                      no   \n",
       "2      M         E        high school   reduced                      no   \n",
       "3      M         B        high school  standard                      no   \n",
       "4      M         E          associate  standard                     yes   \n",
       "\n",
       "  pass/fail_math pass/fail_reading pass/fail_writing failed_courses  \\\n",
       "0         passed            passed            passed  good standing   \n",
       "1         failed            failed            failed   math/reading   \n",
       "2         failed            passed            failed   math/writing   \n",
       "3         passed            passed            passed  good standing   \n",
       "4         passed            passed            passed  good standing   \n",
       "\n",
       "  midterm_results  \n",
       "0   good standing  \n",
       "1   summer school  \n",
       "2   summer school  \n",
       "3   good standing  \n",
       "4   good standing  "
      ]
     },
     "execution_count": 11,
     "metadata": {},
     "output_type": "execute_result"
    }
   ],
   "source": [
    "categoricals.head()"
   ]
  },
  {
   "cell_type": "markdown",
   "id": "7558e36e",
   "metadata": {},
   "source": [
    "#### Describing categoricals:"
   ]
  },
  {
   "cell_type": "code",
   "execution_count": 13,
   "id": "53e8f0c4",
   "metadata": {},
   "outputs": [
    {
     "data": {
      "text/html": [
       "<div>\n",
       "<style scoped>\n",
       "    .dataframe tbody tr th:only-of-type {\n",
       "        vertical-align: middle;\n",
       "    }\n",
       "\n",
       "    .dataframe tbody tr th {\n",
       "        vertical-align: top;\n",
       "    }\n",
       "\n",
       "    .dataframe thead th {\n",
       "        text-align: right;\n",
       "    }\n",
       "</style>\n",
       "<table border=\"1\" class=\"dataframe\">\n",
       "  <thead>\n",
       "    <tr style=\"text-align: right;\">\n",
       "      <th></th>\n",
       "      <th>count</th>\n",
       "      <th>unique</th>\n",
       "      <th>top</th>\n",
       "      <th>freq</th>\n",
       "    </tr>\n",
       "  </thead>\n",
       "  <tbody>\n",
       "    <tr>\n",
       "      <th>gender</th>\n",
       "      <td>1000</td>\n",
       "      <td>2</td>\n",
       "      <td>M</td>\n",
       "      <td>517</td>\n",
       "    </tr>\n",
       "    <tr>\n",
       "      <th>ethnicity</th>\n",
       "      <td>1000</td>\n",
       "      <td>5</td>\n",
       "      <td>C</td>\n",
       "      <td>323</td>\n",
       "    </tr>\n",
       "    <tr>\n",
       "      <th>parental_education</th>\n",
       "      <td>1000</td>\n",
       "      <td>5</td>\n",
       "      <td>high school</td>\n",
       "      <td>424</td>\n",
       "    </tr>\n",
       "    <tr>\n",
       "      <th>lunch</th>\n",
       "      <td>1000</td>\n",
       "      <td>2</td>\n",
       "      <td>standard</td>\n",
       "      <td>652</td>\n",
       "    </tr>\n",
       "    <tr>\n",
       "      <th>test_preparation_course</th>\n",
       "      <td>1000</td>\n",
       "      <td>2</td>\n",
       "      <td>no</td>\n",
       "      <td>665</td>\n",
       "    </tr>\n",
       "    <tr>\n",
       "      <th>pass/fail_math</th>\n",
       "      <td>1000</td>\n",
       "      <td>2</td>\n",
       "      <td>passed</td>\n",
       "      <td>665</td>\n",
       "    </tr>\n",
       "    <tr>\n",
       "      <th>pass/fail_reading</th>\n",
       "      <td>1000</td>\n",
       "      <td>2</td>\n",
       "      <td>passed</td>\n",
       "      <td>752</td>\n",
       "    </tr>\n",
       "    <tr>\n",
       "      <th>pass/fail_writing</th>\n",
       "      <td>1000</td>\n",
       "      <td>2</td>\n",
       "      <td>passed</td>\n",
       "      <td>712</td>\n",
       "    </tr>\n",
       "    <tr>\n",
       "      <th>failed_courses</th>\n",
       "      <td>1000</td>\n",
       "      <td>7</td>\n",
       "      <td>good standing</td>\n",
       "      <td>588</td>\n",
       "    </tr>\n",
       "    <tr>\n",
       "      <th>midterm_results</th>\n",
       "      <td>1000</td>\n",
       "      <td>2</td>\n",
       "      <td>good standing</td>\n",
       "      <td>588</td>\n",
       "    </tr>\n",
       "  </tbody>\n",
       "</table>\n",
       "</div>"
      ],
      "text/plain": [
       "                        count unique            top freq\n",
       "gender                   1000      2              M  517\n",
       "ethnicity                1000      5              C  323\n",
       "parental_education       1000      5    high school  424\n",
       "lunch                    1000      2       standard  652\n",
       "test_preparation_course  1000      2             no  665\n",
       "pass/fail_math           1000      2         passed  665\n",
       "pass/fail_reading        1000      2         passed  752\n",
       "pass/fail_writing        1000      2         passed  712\n",
       "failed_courses           1000      7  good standing  588\n",
       "midterm_results          1000      2  good standing  588"
      ]
     },
     "execution_count": 13,
     "metadata": {},
     "output_type": "execute_result"
    }
   ],
   "source": [
    "categoricals.describe().T"
   ]
  },
  {
   "cell_type": "markdown",
   "id": "2d78fac6",
   "metadata": {},
   "source": [
    "### Displaying unique values:"
   ]
  },
  {
   "cell_type": "code",
   "execution_count": 183,
   "id": "641fe5f1",
   "metadata": {},
   "outputs": [],
   "source": [
    "def show_unique(data):\n",
    "    print('The unique values in gender are: ',  data['gender'].unique())\n",
    "    print()\n",
    "    print('The unique values in ethnicity are: ',  np.sort(data['ethnicity'].unique()))\n",
    "    print()\n",
    "    print('The unique values in parental_education are: ', data['parental_education'].unique())\n",
    "    print()\n",
    "    print('The unique values in lunch are: ', data['lunch'].unique())\n",
    "    print()\n",
    "    print('The unique values in pass/fail_math are: ', data['pass/fail_math'].unique())\n",
    "    print()\n",
    "    print('The unique values in math_score are: ', np.sort(data['math_score'].unique()))\n",
    "    print()\n",
    "    print('The unique values in pass/fail_math are: ', data['pass/fail_reading'].unique())\n",
    "    print()\n",
    "    print('The unique values in math_score are: ', np.sort(data['reading_score'].unique()))\n",
    "    print()\n",
    "    print('The unique values in pass/fail_writing are: ', data['pass/fail_writing'].unique())\n",
    "    print()\n",
    "    print('The unique values in writing_score are: ', np.sort(data['writing_score'].unique()))\n",
    "    print()\n",
    "    print('The unique values in failed_courses are: ', data['failed_courses'].unique())\n",
    "    print()\n",
    "    print('The unique values in midterm_results are: ', data['midterm_results'].unique())"
   ]
  },
  {
   "cell_type": "code",
   "execution_count": 184,
   "id": "e0bd3466",
   "metadata": {},
   "outputs": [
    {
     "name": "stdout",
     "output_type": "stream",
     "text": [
      "The unique values in gender are:  ['M' 'F']\n",
      "\n",
      "The unique values in ethnicity are:  ['A' 'B' 'C' 'D' 'E']\n",
      "\n",
      "The unique values in parental_education are:  ['high school' 'no high school' 'associate' 'bachelor' 'master']\n",
      "\n",
      "The unique values in lunch are:  ['standard' 'reduced']\n",
      "\n",
      "The unique values in pass/fail_math are:  ['passed' 'failed']\n",
      "\n",
      "The unique values in math_score are:  [ 13  23  25  26  28  29  30  31  32  33  34  35  36  37  38  39  40  41\n",
      "  42  43  44  45  46  47  48  49  50  51  52  53  54  55  56  57  58  59\n",
      "  60  61  62  63  64  65  66  67  68  69  70  71  72  73  74  75  76  77\n",
      "  78  79  80  81  82  83  84  85  86  87  88  89  90  91  92  93  94  95\n",
      "  96  97  98  99 100]\n",
      "\n",
      "The unique values in pass/fail_math are:  ['passed' 'failed']\n",
      "\n",
      "The unique values in math_score are:  [ 27  28  29  31  32  33  34  35  36  37  38  39  40  41  42  43  44  45\n",
      "  46  47  48  49  50  51  52  53  54  55  56  57  58  59  60  61  62  63\n",
      "  64  65  66  67  68  69  70  71  72  73  74  75  76  77  78  79  80  81\n",
      "  82  83  84  85  86  87  88  89  90  91  92  93  94  95  96  97  98  99\n",
      " 100]\n",
      "\n",
      "The unique values in pass/fail_writing are:  ['passed' 'failed']\n",
      "\n",
      "The unique values in writing_score are:  [ 23  24  26  27  28  30  31  32  33  34  35  36  37  38  39  40  41  42\n",
      "  43  44  45  46  47  48  49  50  51  52  53  54  55  56  57  58  59  60\n",
      "  61  62  63  64  65  66  67  68  69  70  71  72  73  74  75  76  77  78\n",
      "  79  80  81  82  83  84  85  86  87  88  89  90  91  92  93  94  95  96\n",
      "  97  98  99 100]\n",
      "\n",
      "The unique values in failed_courses are:  ['good standing' 'math/reading' 'math/writing' 'reading' 'writing' 'math'\n",
      " 'reading/writing']\n",
      "\n",
      "The unique values in midterm_results are:  ['good standing' 'summer school']\n"
     ]
    }
   ],
   "source": [
    "show_unique(data)"
   ]
  },
  {
   "cell_type": "markdown",
   "id": "07cc4ff1",
   "metadata": {},
   "source": [
    "### Finding outliers:"
   ]
  },
  {
   "cell_type": "code",
   "execution_count": 54,
   "id": "9707ac0f",
   "metadata": {},
   "outputs": [],
   "source": [
    "def plot_outliers(data):\n",
    "    \n",
    "    fig, ax = plt.subplots(1,4, figsize=(5,5))\n",
    "    plt.tight_layout()\n",
    "    ax[0].set_title('math_score')\n",
    "    sns.boxplot(y=data['math_score'], ax=ax[0])\n",
    "    \n",
    "    ax[1].set_title('reading_score')\n",
    "    sns.boxplot(y=data['reading_score'], ax=ax[1], color='blue')\n",
    "    \n",
    "    ax[2].set_title('writing_score')\n",
    "    sns.boxplot(y=data['writing_score'], ax=ax[2], color='green')\n",
    "    \n",
    "    ax[3].set_title('average_grade')\n",
    "    sns.boxplot(y=data['average_grade'], ax=ax[3], color='red')\n",
    "    \n",
    "    plt.tight_layout()\n",
    "    plt.show()"
   ]
  },
  {
   "cell_type": "code",
   "execution_count": 55,
   "id": "888c1aa9",
   "metadata": {},
   "outputs": [
    {
     "data": {
      "image/png": "[encoded data removed]",
      "text/plain": [
       "<Figure size 360x360 with 4 Axes>"
      ]
     },
     "metadata": {
      "needs_background": "light"
     },
     "output_type": "display_data"
    }
   ],
   "source": [
    "plot_outliers(data)"
   ]
  },
  {
   "cell_type": "code",
   "execution_count": 83,
   "id": "3b6b1e84",
   "metadata": {},
   "outputs": [],
   "source": [
    "def find_outliers(data):\n",
    "    Q1 = data.quantile(0.25)\n",
    "    Q3 = data.quantile(0.75)\n",
    "    IQR = Q3 - Q1\n",
    "    \n",
    "    outliers = data[((data<(Q1 - 1.5*IQR))) | (data>(Q3 + 1.5*IQR))]\n",
    "    \n",
    "    return list(outliers)"
   ]
  },
  {
   "cell_type": "code",
   "execution_count": 87,
   "id": "22846b70",
   "metadata": {},
   "outputs": [
    {
     "name": "stdout",
     "output_type": "stream",
     "text": [
      "The outliers in math score are:  [23, 13, 13]\n",
      "The outliers in reading score are:  [28, 29, 27, 28, 31, 29]\n",
      "The outliers in writing score are:  [24, 23, 26, 23]\n"
     ]
    }
   ],
   "source": [
    "print('The outliers in math score are: ', find_outliers(data['math_score']))\n",
    "print('The outliers in reading score are: ', find_outliers(data['reading_score']))\n",
    "print('The outliers in writing score are: ', find_outliers(data['writing_score']))\n"
   ]
  },
  {
   "cell_type": "markdown",
   "id": "d9e02690",
   "metadata": {},
   "source": [
    "Will not remove these outliers since they present valuable information about the lowest performers in the tests."
   ]
  },
  {
   "cell_type": "markdown",
   "id": "1f6a646e",
   "metadata": {},
   "source": [
    "### Plotting the data:"
   ]
  },
  {
   "cell_type": "markdown",
   "id": "7eeef929",
   "metadata": {},
   "source": [
    "### Grades by gender:"
   ]
  },
  {
   "cell_type": "code",
   "execution_count": 135,
   "id": "e4c98b38",
   "metadata": {},
   "outputs": [
    {
     "data": {
      "text/html": [
       "<div>\n",
       "<style scoped>\n",
       "    .dataframe tbody tr th:only-of-type {\n",
       "        vertical-align: middle;\n",
       "    }\n",
       "\n",
       "    .dataframe tbody tr th {\n",
       "        vertical-align: top;\n",
       "    }\n",
       "\n",
       "    .dataframe thead th {\n",
       "        text-align: right;\n",
       "    }\n",
       "</style>\n",
       "<table border=\"1\" class=\"dataframe\">\n",
       "  <thead>\n",
       "    <tr style=\"text-align: right;\">\n",
       "      <th></th>\n",
       "      <th>gender</th>\n",
       "      <th>average_grade</th>\n",
       "    </tr>\n",
       "  </thead>\n",
       "  <tbody>\n",
       "    <tr>\n",
       "      <th>0</th>\n",
       "      <td>F</td>\n",
       "      <td>68.930911</td>\n",
       "    </tr>\n",
       "    <tr>\n",
       "      <th>1</th>\n",
       "      <td>M</td>\n",
       "      <td>66.573250</td>\n",
       "    </tr>\n",
       "  </tbody>\n",
       "</table>\n",
       "</div>"
      ],
      "text/plain": [
       "  gender  average_grade\n",
       "0      F      68.930911\n",
       "1      M      66.573250"
      ]
     },
     "execution_count": 135,
     "metadata": {},
     "output_type": "execute_result"
    }
   ],
   "source": [
    "gender_grades = data.groupby('gender').agg({'average_grade': 'mean'}).reset_index()\n",
    "gender_count = data.groupby('gender').agg({'average_grade': 'count'}).reset_index()\n",
    "\n",
    "gender_grades"
   ]
  },
  {
   "cell_type": "code",
   "execution_count": 153,
   "id": "337005b7",
   "metadata": {},
   "outputs": [
    {
     "data": {
      "text/plain": [
       "[Text(0, 0.5, 'average_grade'),\n",
       " Text(0.5, 0, 'gender'),\n",
       " Text(0.5, 1.0, 'Students by Gender')]"
      ]
     },
     "execution_count": 153,
     "metadata": {},
     "output_type": "execute_result"
    },
    {
     "data": {
      "image/png": "[encoded data removed]",
      "text/plain": [
       "<Figure size 432x432 with 2 Axes>"
      ]
     },
     "metadata": {
      "needs_background": "light"
     },
     "output_type": "display_data"
    }
   ],
   "source": [
    "fig, ax = plt.subplots(1,2, figsize=(6,6))\n",
    "\n",
    "plot_1 = sns.barplot(data=round(gender_grades,2), x='gender', y='average_grade', ax=ax[0])\n",
    "plot_1.bar_label(plot_1.containers[0], label_type='edge')\n",
    "plot_1.set(ylabel='average_grade', xlabel='gender', title='Grades by Gender')\n",
    "\n",
    "plot_2 = sns.barplot(data=gender_count, x='gender', y='average_grade', ax=ax[1])\n",
    "plot_2.bar_label(plot_2.containers[0], label_type='edge')\n",
    "plot_2.set(ylabel='average_grade', xlabel='gender', title='Students by Gender')\n",
    "\n",
    "plt.tight_layout()"
   ]
  },
  {
   "cell_type": "markdown",
   "id": "47bf60f1",
   "metadata": {},
   "source": [
    "### Grades by ethnicity:"
   ]
  },
  {
   "cell_type": "code",
   "execution_count": 152,
   "id": "ac754530",
   "metadata": {},
   "outputs": [
    {
     "data": {
      "image/png": "[encoded data removed]",
      "text/plain": [
       "<Figure size 432x432 with 2 Axes>"
      ]
     },
     "metadata": {
      "needs_background": "light"
     },
     "output_type": "display_data"
    }
   ],
   "source": [
    "ethnicity_grades = data.groupby('ethnicity').agg({'average_grade': 'mean'}).reset_index()\n",
    "ethnicity_count = data.groupby('ethnicity').agg({'average_grade': 'count'}).reset_index()\n",
    "\n",
    "fig, ax = plt.subplots(1,2, figsize=(6,6))\n",
    "\n",
    "plot_1 = sns.barplot(data=round(ethnicity_grades,2), x='ethnicity', y='average_grade', ax=ax[0])\n",
    "plot_1.bar_label(plot_1.containers[0], label_type='edge')\n",
    "plot_1.set(ylabel='average_grade', xlabel='ethnicity', title='Grades by Ethnicity')\n",
    "\n",
    "plot_2 = sns.barplot(data=ethnicity_count, x='ethnicity', y='average_grade', ax=ax[1])\n",
    "plot_2.bar_label(plot_2.containers[0], label_type='edge')\n",
    "plot_2.set(ylabel='average_grade', xlabel='ethnicity', title='Students by Ethnicity')\n",
    "\n",
    "plt.tight_layout()"
   ]
  },
  {
   "cell_type": "markdown",
   "id": "d49bcff7",
   "metadata": {},
   "source": [
    "### Grades by parental education:"
   ]
  },
  {
   "cell_type": "code",
   "execution_count": 116,
   "id": "3fbcd3a7",
   "metadata": {},
   "outputs": [
    {
     "data": {
      "text/html": [
       "<div>\n",
       "<style scoped>\n",
       "    .dataframe tbody tr th:only-of-type {\n",
       "        vertical-align: middle;\n",
       "    }\n",
       "\n",
       "    .dataframe tbody tr th {\n",
       "        vertical-align: top;\n",
       "    }\n",
       "\n",
       "    .dataframe thead th {\n",
       "        text-align: right;\n",
       "    }\n",
       "</style>\n",
       "<table border=\"1\" class=\"dataframe\">\n",
       "  <thead>\n",
       "    <tr style=\"text-align: right;\">\n",
       "      <th></th>\n",
       "      <th>parental_education</th>\n",
       "      <th>average_grade</th>\n",
       "    </tr>\n",
       "  </thead>\n",
       "  <tbody>\n",
       "    <tr>\n",
       "      <th>0</th>\n",
       "      <td>associate</td>\n",
       "      <td>203</td>\n",
       "    </tr>\n",
       "    <tr>\n",
       "      <th>1</th>\n",
       "      <td>bachelor</td>\n",
       "      <td>112</td>\n",
       "    </tr>\n",
       "    <tr>\n",
       "      <th>2</th>\n",
       "      <td>high school</td>\n",
       "      <td>424</td>\n",
       "    </tr>\n",
       "    <tr>\n",
       "      <th>3</th>\n",
       "      <td>master</td>\n",
       "      <td>70</td>\n",
       "    </tr>\n",
       "    <tr>\n",
       "      <th>4</th>\n",
       "      <td>no high school</td>\n",
       "      <td>191</td>\n",
       "    </tr>\n",
       "  </tbody>\n",
       "</table>\n",
       "</div>"
      ],
      "text/plain": [
       "  parental_education  average_grade\n",
       "0          associate            203\n",
       "1           bachelor            112\n",
       "2        high school            424\n",
       "3             master             70\n",
       "4     no high school            191"
      ]
     },
     "execution_count": 116,
     "metadata": {},
     "output_type": "execute_result"
    }
   ],
   "source": [
    "education_grades = data.groupby('parental_education').agg({'average_grade': 'mean'}).reset_index()\n",
    "\n",
    "education_grades_count = data.groupby('parental_education').agg({'average_grade': 'count'}).reset_index()\n",
    "\n",
    "education_grades_count\n",
    "#display(education_grades)"
   ]
  },
  {
   "cell_type": "code",
   "execution_count": 157,
   "id": "82e5def2",
   "metadata": {},
   "outputs": [
    {
     "data": {
      "image/png": "[encoded data removed]",
      "text/plain": [
       "<Figure size 432x432 with 2 Axes>"
      ]
     },
     "metadata": {
      "needs_background": "light"
     },
     "output_type": "display_data"
    }
   ],
   "source": [
    "fig, ax = plt.subplots(1,2, figsize=(6,6))\n",
    "\n",
    "plot_1 = sns.barplot(data=round(education_grades,2), x='parental_education', y='average_grade', ax=ax[0])\n",
    "plot_1.tick_params(axis='x', rotation=90)\n",
    "plot_1.bar_label(plot_1.containers[0], label_type='edge')\n",
    "plot_1.set(ylabel='average_grade', xlabel='parental_education', title='Grades by Parental Education')\n",
    "\n",
    "plot_2 = sns.barplot(data=education_grades_count, x='parental_education', y='average_grade', ax=ax[1])\n",
    "plot_2.tick_params(axis='x', rotation=90)\n",
    "plot_2.bar_label(plot_2.containers[0], label_type='edge')\n",
    "plot_2.set(ylabel='number_of_students', xlabel='parental_education', title='Students by Parental Education')\n",
    "\n",
    "plt.tight_layout()"
   ]
  },
  {
   "cell_type": "markdown",
   "id": "cd9cb4e8",
   "metadata": {},
   "source": [
    "### Grades by lunch plan:"
   ]
  },
  {
   "cell_type": "code",
   "execution_count": 158,
   "id": "2d9d25c4",
   "metadata": {},
   "outputs": [
    {
     "data": {
      "image/png": "[encoded data removed]",
      "text/plain": [
       "<Figure size 432x432 with 2 Axes>"
      ]
     },
     "metadata": {
      "needs_background": "light"
     },
     "output_type": "display_data"
    }
   ],
   "source": [
    "lunch_grades = data.groupby('lunch').agg({'average_grade': 'mean'}).reset_index()\n",
    "lunch_count = data.groupby('lunch').agg({'average_grade': 'count'}).reset_index()\n",
    "\n",
    "fig, ax = plt.subplots(1,2, figsize=(6,6))\n",
    "\n",
    "plot_1 = sns.barplot(data=lunch_grades, x='lunch', y='average_grade', ax=ax[0])\n",
    "plot_1.bar_label(plot_1.containers[0], label_type='edge')\n",
    "plot_1.set(ylabel='average_grade', xlabel='lunch_plan', title='Grades by lunch plan')\n",
    "\n",
    "plot_2 = sns.barplot(data=lunch_count, x='lunch', y='average_grade', ax=ax[1])\n",
    "plot_2.bar_label(plot_2.containers[0], label_type='edge')\n",
    "plot_2.set(ylabel='number_of_students', xlabel='lunch_plan', title='Students by lunch plan')\n",
    "\n",
    "plt.tight_layout()"
   ]
  },
  {
   "cell_type": "markdown",
   "id": "e6e6ff20",
   "metadata": {},
   "source": [
    "### Grades by preparation course:"
   ]
  },
  {
   "cell_type": "code",
   "execution_count": 162,
   "id": "4f9d113d",
   "metadata": {},
   "outputs": [
    {
     "data": {
      "image/png": "[encoded data removed]",
      "text/plain": [
       "<Figure size 432x432 with 2 Axes>"
      ]
     },
     "metadata": {
      "needs_background": "light"
     },
     "output_type": "display_data"
    }
   ],
   "source": [
    "preparation_grades = data.groupby('test_preparation_course').agg({'average_grade': 'mean'}).reset_index()\n",
    "preparation_count = data.groupby('test_preparation_course').agg({'average_grade': 'count'}).reset_index()\n",
    "\n",
    "fig, ax = plt.subplots(1,2, figsize=(6,6))\n",
    "\n",
    "plot_1 = sns.barplot(data=preparation_grades, x='test_preparation_course', y='average_grade', ax=ax[0])\n",
    "plot_1.bar_label(plot_1.containers[0], label_type='edge')\n",
    "plot_1.set(ylabel='average_grade', xlabel='preparation_plan', title='Grades by preparation course')\n",
    "\n",
    "plot_2 = sns.barplot(data=preparation_count, x='test_preparation_course', y='average_grade', ax=ax[1])\n",
    "plot_2.bar_label(plot_2.containers[0], label_type='edge')\n",
    "plot_2.set(ylabel='number_of_students', xlabel='preparation_course', title='Students by preparation course')\n",
    "\n",
    "plt.tight_layout()"
   ]
  },
  {
   "cell_type": "markdown",
   "id": "28215f36",
   "metadata": {},
   "source": [
    "### Pass/failed in all courses:"
   ]
  },
  {
   "cell_type": "code",
   "execution_count": 174,
   "id": "5b0bed67",
   "metadata": {},
   "outputs": [
    {
     "data": {
      "image/png": "[encoded data removed]",
      "text/plain": [
       "<Figure size 432x432 with 3 Axes>"
      ]
     },
     "metadata": {
      "needs_background": "light"
     },
     "output_type": "display_data"
    }
   ],
   "source": [
    "math_data = data.groupby('pass/fail_math').agg({'average_grade': 'count'}).reset_index()\n",
    "reading_data = data.groupby('pass/fail_reading').agg({'average_grade': 'count'}).reset_index()\n",
    "writing_data = data.groupby('pass/fail_writing').agg({'average_grade': 'count'}).reset_index()\n",
    "\n",
    "fig, ax = plt.subplots(1,3, figsize=(6,6))\n",
    "\n",
    "plot_1 = sns.barplot(data=math_data, x='pass/fail_math', y='average_grade', ax=ax[0])\n",
    "plot_1.bar_label(plot_1.containers[0], label_type='edge')\n",
    "plot_1.set(ylabel='number of students', xlabel='pass or fail math', title='Math')\n",
    "\n",
    "plot_2 = sns.barplot(data=reading_data, x='pass/fail_reading', y='average_grade', ax=ax[1])\n",
    "plot_2.bar_label(plot_2.containers[0], label_type='edge')\n",
    "plot_2.set(ylabel='number_of_students', xlabel='pass or fail reading', title='Reading')\n",
    "\n",
    "plot_3 = sns.barplot(data=writing_data, x='pass/fail_writing', y='average_grade', ax=ax[2])\n",
    "plot_3.bar_label(plot_3.containers[0], label_type='edge')\n",
    "plot_3.set(ylabel='number_of_students', xlabel='pass or fail writing', title='Writing')\n",
    "\n",
    "plt.tight_layout()"
   ]
  },
  {
   "cell_type": "markdown",
   "id": "dda71f14",
   "metadata": {},
   "source": [
    "### Correlation matrix:"
   ]
  },
  {
   "cell_type": "code",
   "execution_count": 176,
   "id": "e3654cf6",
   "metadata": {},
   "outputs": [
    {
     "data": {
      "text/plain": [
       "<AxesSubplot:>"
      ]
     },
     "execution_count": 176,
     "metadata": {},
     "output_type": "execute_result"
    },
    {
     "data": {
      "image/png": "[encoded data removed]",
      "text/plain": [
       "<Figure size 360x360 with 2 Axes>"
      ]
     },
     "metadata": {
      "needs_background": "light"
     },
     "output_type": "display_data"
    }
   ],
   "source": [
    "fig,ax = plt.subplots(figsize=(5,5))\n",
    "sns.heatmap(data.corr(), annot=True)"
   ]
  },
  {
   "cell_type": "code",
   "execution_count": null,
   "id": "f29fd5b5",
   "metadata": {},
   "outputs": [],
   "source": []
  }
 ],
 "metadata": {
  "kernelspec": {
   "display_name": "FinalBootcampProject",
   "language": "python",
   "name": "finalbootcampproject"
  },
  "language_info": {
   "codemirror_mode": {
    "name": "ipython",
    "version": 3
   },
   "file_extension": ".py",
   "mimetype": "text/x-python",
   "name": "python",
   "nbconvert_exporter": "python",
   "pygments_lexer": "ipython3",
   "version": "3.9.12"
  }
 },
 "nbformat": 4,
 "nbformat_minor": 5
}
