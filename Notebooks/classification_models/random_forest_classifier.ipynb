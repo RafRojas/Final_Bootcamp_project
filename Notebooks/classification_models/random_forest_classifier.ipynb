{
 "cells": [
  {
   "cell_type": "markdown",
   "id": "6cc0210d",
   "metadata": {},
   "source": [
    "### Import libraries:"
   ]
  },
  {
   "cell_type": "code",
   "execution_count": 1,
   "id": "caeb9434",
   "metadata": {},
   "outputs": [],
   "source": [
    "import pandas as pd\n",
    "import numpy as np\n",
    "import pickle\n",
    "import seaborn as sns\n",
    "import matplotlib.pyplot as plt\n",
    "\n",
    "from sklearn.model_selection import train_test_split\n",
    "from sklearn.model_selection import cross_val_score\n",
    "from sklearn.model_selection import GridSearchCV\n",
    "from sklearn.preprocessing import OneHotEncoder\n",
    "from sklearn.ensemble import RandomForestClassifier\n",
    "from sklearn.metrics import accuracy_score, precision_score, recall_score, f1_score, cohen_kappa_score\n",
    "from sklearn.metrics import plot_confusion_matrix"
   ]
  },
  {
   "cell_type": "markdown",
   "id": "9af48184",
   "metadata": {},
   "source": [
    "### Load data:"
   ]
  },
  {
   "cell_type": "code",
   "execution_count": 2,
   "id": "eff35ed6",
   "metadata": {},
   "outputs": [
    {
     "data": {
      "text/html": [
       "<div>\n",
       "<style scoped>\n",
       "    .dataframe tbody tr th:only-of-type {\n",
       "        vertical-align: middle;\n",
       "    }\n",
       "\n",
       "    .dataframe tbody tr th {\n",
       "        vertical-align: top;\n",
       "    }\n",
       "\n",
       "    .dataframe thead th {\n",
       "        text-align: right;\n",
       "    }\n",
       "</style>\n",
       "<table border=\"1\" class=\"dataframe\">\n",
       "  <thead>\n",
       "    <tr style=\"text-align: right;\">\n",
       "      <th></th>\n",
       "      <th>gender</th>\n",
       "      <th>ethnicity</th>\n",
       "      <th>parental_education</th>\n",
       "      <th>lunch</th>\n",
       "      <th>test_preparation_course</th>\n",
       "      <th>pass/fail_math</th>\n",
       "      <th>math_score</th>\n",
       "      <th>pass/fail_reading</th>\n",
       "      <th>reading_score</th>\n",
       "      <th>pass/fail_writing</th>\n",
       "      <th>writing_score</th>\n",
       "      <th>failed_courses</th>\n",
       "      <th>midterm_results</th>\n",
       "      <th>average_grade</th>\n",
       "    </tr>\n",
       "  </thead>\n",
       "  <tbody>\n",
       "    <tr>\n",
       "      <th>0</th>\n",
       "      <td>M</td>\n",
       "      <td>A</td>\n",
       "      <td>high school</td>\n",
       "      <td>standard</td>\n",
       "      <td>yes</td>\n",
       "      <td>passed</td>\n",
       "      <td>67</td>\n",
       "      <td>passed</td>\n",
       "      <td>67</td>\n",
       "      <td>passed</td>\n",
       "      <td>63</td>\n",
       "      <td>good standing</td>\n",
       "      <td>good standing</td>\n",
       "      <td>65.67</td>\n",
       "    </tr>\n",
       "    <tr>\n",
       "      <th>1</th>\n",
       "      <td>F</td>\n",
       "      <td>D</td>\n",
       "      <td>no high school</td>\n",
       "      <td>reduced</td>\n",
       "      <td>no</td>\n",
       "      <td>failed</td>\n",
       "      <td>40</td>\n",
       "      <td>failed</td>\n",
       "      <td>59</td>\n",
       "      <td>failed</td>\n",
       "      <td>55</td>\n",
       "      <td>math/reading</td>\n",
       "      <td>summer school</td>\n",
       "      <td>51.33</td>\n",
       "    </tr>\n",
       "    <tr>\n",
       "      <th>2</th>\n",
       "      <td>M</td>\n",
       "      <td>E</td>\n",
       "      <td>high school</td>\n",
       "      <td>reduced</td>\n",
       "      <td>no</td>\n",
       "      <td>failed</td>\n",
       "      <td>59</td>\n",
       "      <td>passed</td>\n",
       "      <td>60</td>\n",
       "      <td>failed</td>\n",
       "      <td>50</td>\n",
       "      <td>math/writing</td>\n",
       "      <td>summer school</td>\n",
       "      <td>56.33</td>\n",
       "    </tr>\n",
       "    <tr>\n",
       "      <th>3</th>\n",
       "      <td>M</td>\n",
       "      <td>B</td>\n",
       "      <td>high school</td>\n",
       "      <td>standard</td>\n",
       "      <td>no</td>\n",
       "      <td>passed</td>\n",
       "      <td>77</td>\n",
       "      <td>passed</td>\n",
       "      <td>78</td>\n",
       "      <td>passed</td>\n",
       "      <td>68</td>\n",
       "      <td>good standing</td>\n",
       "      <td>good standing</td>\n",
       "      <td>74.33</td>\n",
       "    </tr>\n",
       "    <tr>\n",
       "      <th>4</th>\n",
       "      <td>M</td>\n",
       "      <td>E</td>\n",
       "      <td>associate</td>\n",
       "      <td>standard</td>\n",
       "      <td>yes</td>\n",
       "      <td>passed</td>\n",
       "      <td>78</td>\n",
       "      <td>passed</td>\n",
       "      <td>73</td>\n",
       "      <td>passed</td>\n",
       "      <td>68</td>\n",
       "      <td>good standing</td>\n",
       "      <td>good standing</td>\n",
       "      <td>73.00</td>\n",
       "    </tr>\n",
       "  </tbody>\n",
       "</table>\n",
       "</div>"
      ],
      "text/plain": [
       "  gender ethnicity parental_education     lunch test_preparation_course  \\\n",
       "0      M         A        high school  standard                     yes   \n",
       "1      F         D     no high school   reduced                      no   \n",
       "2      M         E        high school   reduced                      no   \n",
       "3      M         B        high school  standard                      no   \n",
       "4      M         E          associate  standard                     yes   \n",
       "\n",
       "  pass/fail_math  math_score pass/fail_reading  reading_score  \\\n",
       "0         passed          67            passed             67   \n",
       "1         failed          40            failed             59   \n",
       "2         failed          59            passed             60   \n",
       "3         passed          77            passed             78   \n",
       "4         passed          78            passed             73   \n",
       "\n",
       "  pass/fail_writing  writing_score failed_courses midterm_results  \\\n",
       "0            passed             63  good standing   good standing   \n",
       "1            failed             55   math/reading   summer school   \n",
       "2            failed             50   math/writing   summer school   \n",
       "3            passed             68  good standing   good standing   \n",
       "4            passed             68  good standing   good standing   \n",
       "\n",
       "   average_grade  \n",
       "0          65.67  \n",
       "1          51.33  \n",
       "2          56.33  \n",
       "3          74.33  \n",
       "4          73.00  "
      ]
     },
     "execution_count": 2,
     "metadata": {},
     "output_type": "execute_result"
    }
   ],
   "source": [
    "data = pd.read_csv('../../data/clean/data_cleaned.csv')\n",
    "\n",
    "data.head()"
   ]
  },
  {
   "cell_type": "markdown",
   "id": "2adf284a",
   "metadata": {},
   "source": [
    "### X/y and numerical/categorical split:"
   ]
  },
  {
   "cell_type": "code",
   "execution_count": 3,
   "id": "dd139332",
   "metadata": {},
   "outputs": [],
   "source": [
    "X = data.drop(['pass/fail_math', 'pass/fail_reading', 'pass/fail_writing', 'math_score', \n",
    "               'reading_score', 'writing_score', 'average_grade', 'midterm_results', 'failed_courses'], axis=1)\n",
    "y = data['midterm_results']\n",
    "\n",
    "X_train, X_test, y_train, y_test = train_test_split(X, y, test_size=0.3, random_state=42)\n",
    "\n",
    "#X_train_numerical = X_train.select_dtypes(np.number)\n",
    "#X_test_numerical = X_test.select_dtypes(np.number)\n",
    "\n",
    "X_train_categorical = X_train.select_dtypes(object)\n",
    "X_test_categorical = X_test.select_dtypes(object)"
   ]
  },
  {
   "cell_type": "markdown",
   "id": "562f2f2d",
   "metadata": {},
   "source": [
    "### Encoding categoricals:"
   ]
  },
  {
   "cell_type": "code",
   "execution_count": 4,
   "id": "522585bd",
   "metadata": {},
   "outputs": [],
   "source": [
    "encoder = OneHotEncoder()\n",
    "encoder.fit(X_train_categorical)\n",
    "\n",
    "X_train_cat_enc = encoder.transform(X_train_categorical).toarray()\n",
    "X_train_final = pd.DataFrame(X_train_cat_enc, columns=encoder.get_feature_names_out())\n",
    "\n",
    "X_test_cat_enc = encoder.transform(X_test_categorical).toarray()\n",
    "X_test_final = pd.DataFrame(X_test_cat_enc, columns=encoder.get_feature_names_out())"
   ]
  },
  {
   "cell_type": "markdown",
   "id": "33d879e7",
   "metadata": {},
   "source": [
    "### Random forest classifier:"
   ]
  },
  {
   "cell_type": "code",
   "execution_count": 5,
   "id": "e651e430",
   "metadata": {},
   "outputs": [
    {
     "name": "stdout",
     "output_type": "stream",
     "text": [
      "The Train data Accuracy score was: 0.70\n",
      "The Test data Accuracy score was: 0.67\n"
     ]
    }
   ],
   "source": [
    "clf = RandomForestClassifier(max_depth=5,\n",
    "                             min_samples_split=2,\n",
    "                             min_samples_leaf =4,\n",
    "                             max_samples=0.5,\n",
    "                             random_state = 42)\n",
    "\n",
    "clf.fit(X_train_final, y_train)\n",
    "y_train_pred = clf.predict(X_train_final)\n",
    "y_test_pred = clf.predict(X_test_final)\n",
    "\n",
    "\n",
    "print(\"The Train data Accuracy score was: {:.2f}\".format(clf.score(X_train_final, y_train)))\n",
    "print(\"The Test data Accuracy score was: {:.2f}\".format(clf.score(X_test_final, y_test)))"
   ]
  },
  {
   "cell_type": "markdown",
   "id": "b0408b7b",
   "metadata": {},
   "source": [
    "### Finding the best parameters for the model:"
   ]
  },
  {
   "cell_type": "code",
   "execution_count": 6,
   "id": "88a3330a",
   "metadata": {},
   "outputs": [],
   "source": [
    "grid = {'max_depth': [2, 5, 10],\n",
    "        'min_samples_split': [2, 4, 6],\n",
    "        'min_samples_leaf': [4, 6, 8],\n",
    "        'max_samples': [0.5, 1],\n",
    "        'random_state':[42]}"
   ]
  },
  {
   "cell_type": "code",
   "execution_count": 7,
   "id": "a1f00833",
   "metadata": {},
   "outputs": [],
   "source": [
    "model = RandomForestClassifier()\n",
    "grid_search = GridSearchCV(estimator = model, param_grid = grid, cv = 5)"
   ]
  },
  {
   "cell_type": "code",
   "execution_count": 8,
   "id": "799dce63",
   "metadata": {},
   "outputs": [
    {
     "data": {
      "text/plain": [
       "GridSearchCV(cv=5, estimator=RandomForestClassifier(),\n",
       "             param_grid={'max_depth': [2, 5, 10], 'max_samples': [0.5, 1],\n",
       "                         'min_samples_leaf': [4, 6, 8],\n",
       "                         'min_samples_split': [2, 4, 6], 'random_state': [42]})"
      ]
     },
     "execution_count": 8,
     "metadata": {},
     "output_type": "execute_result"
    }
   ],
   "source": [
    "grid_search.fit(X_train_final, y_train)"
   ]
  },
  {
   "cell_type": "code",
   "execution_count": 9,
   "id": "1d894e41",
   "metadata": {},
   "outputs": [
    {
     "data": {
      "text/plain": [
       "{'max_depth': 5,\n",
       " 'max_samples': 0.5,\n",
       " 'min_samples_leaf': 4,\n",
       " 'min_samples_split': 2,\n",
       " 'random_state': 42}"
      ]
     },
     "execution_count": 9,
     "metadata": {},
     "output_type": "execute_result"
    }
   ],
   "source": [
    "grid_search.best_params_"
   ]
  },
  {
   "cell_type": "code",
   "execution_count": 10,
   "id": "4af6a8d6",
   "metadata": {},
   "outputs": [
    {
     "name": "stdout",
     "output_type": "stream",
     "text": [
      "The best accuracy for the best hyperparameters is 0.67\n"
     ]
    }
   ],
   "source": [
    "print(\"The best accuracy for the best hyperparameters is {:.2f}\".format(grid_search.best_score_))"
   ]
  },
  {
   "cell_type": "markdown",
   "id": "3101d327",
   "metadata": {},
   "source": [
    "Turns out the best score was from the model we chose at the beggining."
   ]
  },
  {
   "cell_type": "markdown",
   "id": "b81756d9",
   "metadata": {},
   "source": [
    "### Validating the model:"
   ]
  },
  {
   "cell_type": "code",
   "execution_count": 11,
   "id": "749d2550",
   "metadata": {},
   "outputs": [],
   "source": [
    "def model_performance_classification(y_train, y_train_pred, y_test, y_test_pred):\n",
    "\n",
    "    accuracy_train = accuracy_score(y_train,y_train_pred)\n",
    "    accuracy_test  = accuracy_score(y_test,y_test_pred)\n",
    "\n",
    "    precision_train = precision_score(y_train,y_train_pred, pos_label='summer school')\n",
    "    precision_test  = precision_score(y_test,y_test_pred, pos_label='summer school')\n",
    "\n",
    "    recall_train = recall_score(y_train,y_train_pred, pos_label='summer school')\n",
    "    recall_test  = recall_score(y_train,y_train_pred, pos_label='summer school')\n",
    "\n",
    "    f1_train = f1_score(y_train,y_train_pred, pos_label='summer school')\n",
    "    f1_test  = f1_score(y_train,y_train_pred, pos_label='summer school')\n",
    "    \n",
    "    kappa_train = cohen_kappa_score(y_train, y_train_pred)\n",
    "    kappa_test = cohen_kappa_score(y_test, y_test_pred)\n",
    "\n",
    "    performance = pd.DataFrame({'Error_metric': ['Accuracy score','Precision score','Recall score',\n",
    "                                                 'F1 score', 'Kappa score'],\n",
    "                            'Train': [accuracy_train, precision_train, recall_train, f1_train, kappa_train],\n",
    "                            'Test' : [accuracy_test, precision_test, recall_test, f1_test, kappa_test]})\n",
    "\n",
    "    pd.options.display.float_format = '{:.2f}'.format\n",
    "\n",
    "    df_train = pd.DataFrame({'Real': y_train.tolist(), 'Predicted': y_train_pred.tolist()})\n",
    "    df_test  = pd.DataFrame({'Real': y_test.tolist(),  'Predicted': y_test_pred.tolist()})\n",
    "\n",
    "    return performance, df_train, df_test"
   ]
  },
  {
   "cell_type": "code",
   "execution_count": 12,
   "id": "4ae6144f",
   "metadata": {},
   "outputs": [
    {
     "data": {
      "text/plain": [
       "(      Error_metric  Train  Test\n",
       " 0   Accuracy score   0.70  0.67\n",
       " 1  Precision score   0.69  0.55\n",
       " 2     Recall score   0.55  0.55\n",
       " 3         F1 score   0.61  0.61\n",
       " 4      Kappa score   0.37  0.30,\n",
       "               Real      Predicted\n",
       " 0    good standing  good standing\n",
       " 1    summer school  good standing\n",
       " 2    good standing  good standing\n",
       " 3    summer school  summer school\n",
       " 4    summer school  summer school\n",
       " ..             ...            ...\n",
       " 695  good standing  good standing\n",
       " 696  good standing  summer school\n",
       " 697  good standing  good standing\n",
       " 698  good standing  good standing\n",
       " 699  good standing  good standing\n",
       " \n",
       " [700 rows x 2 columns],\n",
       "               Real      Predicted\n",
       " 0    good standing  good standing\n",
       " 1    good standing  good standing\n",
       " 2    summer school  good standing\n",
       " 3    good standing  good standing\n",
       " 4    good standing  summer school\n",
       " ..             ...            ...\n",
       " 295  good standing  good standing\n",
       " 296  good standing  good standing\n",
       " 297  summer school  summer school\n",
       " 298  good standing  good standing\n",
       " 299  summer school  good standing\n",
       " \n",
       " [300 rows x 2 columns])"
      ]
     },
     "execution_count": 12,
     "metadata": {},
     "output_type": "execute_result"
    }
   ],
   "source": [
    "model_performance_classification(y_train, y_train_pred, y_test, y_test_pred)"
   ]
  },
  {
   "cell_type": "markdown",
   "id": "a3442fb1",
   "metadata": {},
   "source": [
    "### Storing predictions in the dataframe:"
   ]
  },
  {
   "cell_type": "code",
   "execution_count": 13,
   "id": "f497fba4",
   "metadata": {},
   "outputs": [],
   "source": [
    "y_test_pred_df = pd.DataFrame(y_test_pred)\n",
    "\n",
    "df = data.copy()\n",
    "\n",
    "df['midterm_results_pred_rf'] = y_test_pred_df\n",
    "\n",
    "df.dropna(inplace=True)\n",
    "\n",
    "df.to_csv('rf_classifier_pred.csv', index_label = False)"
   ]
  },
  {
   "cell_type": "markdown",
   "id": "44cff2e4",
   "metadata": {},
   "source": [
    "### Saving the model:"
   ]
  },
  {
   "cell_type": "code",
   "execution_count": 14,
   "id": "fc52e917",
   "metadata": {},
   "outputs": [],
   "source": [
    "pickle.dump(clf, open('RF_classifier.pkl', 'wb'))"
   ]
  },
  {
   "cell_type": "code",
   "execution_count": null,
   "id": "55f454b2",
   "metadata": {},
   "outputs": [],
   "source": []
  }
 ],
 "metadata": {
  "kernelspec": {
   "display_name": "FinalBootcampProject",
   "language": "python",
   "name": "finalbootcampproject"
  },
  "language_info": {
   "codemirror_mode": {
    "name": "ipython",
    "version": 3
   },
   "file_extension": ".py",
   "mimetype": "text/x-python",
   "name": "python",
   "nbconvert_exporter": "python",
   "pygments_lexer": "ipython3",
   "version": "3.9.12"
  }
 },
 "nbformat": 4,
 "nbformat_minor": 5
}
