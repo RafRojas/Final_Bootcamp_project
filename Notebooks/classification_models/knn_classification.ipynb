{
 "cells": [
  {
   "cell_type": "markdown",
   "id": "76e29436",
   "metadata": {},
   "source": [
    "### Import libraries:"
   ]
  },
  {
   "cell_type": "code",
   "execution_count": 12,
   "id": "302c02f2",
   "metadata": {},
   "outputs": [],
   "source": [
    "import pandas as pd\n",
    "import numpy as np\n",
    "import pickle\n",
    "import seaborn as sns\n",
    "import matplotlib.pyplot as plt\n",
    "\n",
    "from sklearn.model_selection import train_test_split\n",
    "from sklearn.preprocessing import OneHotEncoder\n",
    "from sklearn.neighbors import KNeighborsClassifier\n",
    "from sklearn.metrics import accuracy_score, precision_score, recall_score, f1_score, cohen_kappa_score\n",
    "from sklearn.metrics import plot_confusion_matrix"
   ]
  },
  {
   "cell_type": "markdown",
   "id": "ffb7763b",
   "metadata": {},
   "source": [
    "### Load data:"
   ]
  },
  {
   "cell_type": "code",
   "execution_count": 2,
   "id": "44253950",
   "metadata": {},
   "outputs": [
    {
     "data": {
      "text/html": [
       "<div>\n",
       "<style scoped>\n",
       "    .dataframe tbody tr th:only-of-type {\n",
       "        vertical-align: middle;\n",
       "    }\n",
       "\n",
       "    .dataframe tbody tr th {\n",
       "        vertical-align: top;\n",
       "    }\n",
       "\n",
       "    .dataframe thead th {\n",
       "        text-align: right;\n",
       "    }\n",
       "</style>\n",
       "<table border=\"1\" class=\"dataframe\">\n",
       "  <thead>\n",
       "    <tr style=\"text-align: right;\">\n",
       "      <th></th>\n",
       "      <th>gender</th>\n",
       "      <th>ethnicity</th>\n",
       "      <th>parental_education</th>\n",
       "      <th>lunch</th>\n",
       "      <th>test_preparation_course</th>\n",
       "      <th>pass/fail_math</th>\n",
       "      <th>math_score</th>\n",
       "      <th>pass/fail_reading</th>\n",
       "      <th>reading_score</th>\n",
       "      <th>pass/fail_writing</th>\n",
       "      <th>writing_score</th>\n",
       "      <th>failed_courses</th>\n",
       "      <th>midterm_results</th>\n",
       "      <th>average_grade</th>\n",
       "    </tr>\n",
       "  </thead>\n",
       "  <tbody>\n",
       "    <tr>\n",
       "      <th>0</th>\n",
       "      <td>M</td>\n",
       "      <td>A</td>\n",
       "      <td>high school</td>\n",
       "      <td>standard</td>\n",
       "      <td>yes</td>\n",
       "      <td>passed</td>\n",
       "      <td>67</td>\n",
       "      <td>passed</td>\n",
       "      <td>67</td>\n",
       "      <td>passed</td>\n",
       "      <td>63</td>\n",
       "      <td>good standing</td>\n",
       "      <td>good standing</td>\n",
       "      <td>65.67</td>\n",
       "    </tr>\n",
       "    <tr>\n",
       "      <th>1</th>\n",
       "      <td>F</td>\n",
       "      <td>D</td>\n",
       "      <td>no high school</td>\n",
       "      <td>reduced</td>\n",
       "      <td>no</td>\n",
       "      <td>failed</td>\n",
       "      <td>40</td>\n",
       "      <td>failed</td>\n",
       "      <td>59</td>\n",
       "      <td>failed</td>\n",
       "      <td>55</td>\n",
       "      <td>math/reading</td>\n",
       "      <td>summer school</td>\n",
       "      <td>51.33</td>\n",
       "    </tr>\n",
       "    <tr>\n",
       "      <th>2</th>\n",
       "      <td>M</td>\n",
       "      <td>E</td>\n",
       "      <td>high school</td>\n",
       "      <td>reduced</td>\n",
       "      <td>no</td>\n",
       "      <td>failed</td>\n",
       "      <td>59</td>\n",
       "      <td>passed</td>\n",
       "      <td>60</td>\n",
       "      <td>failed</td>\n",
       "      <td>50</td>\n",
       "      <td>math/writing</td>\n",
       "      <td>summer school</td>\n",
       "      <td>56.33</td>\n",
       "    </tr>\n",
       "    <tr>\n",
       "      <th>3</th>\n",
       "      <td>M</td>\n",
       "      <td>B</td>\n",
       "      <td>high school</td>\n",
       "      <td>standard</td>\n",
       "      <td>no</td>\n",
       "      <td>passed</td>\n",
       "      <td>77</td>\n",
       "      <td>passed</td>\n",
       "      <td>78</td>\n",
       "      <td>passed</td>\n",
       "      <td>68</td>\n",
       "      <td>good standing</td>\n",
       "      <td>good standing</td>\n",
       "      <td>74.33</td>\n",
       "    </tr>\n",
       "    <tr>\n",
       "      <th>4</th>\n",
       "      <td>M</td>\n",
       "      <td>E</td>\n",
       "      <td>associate</td>\n",
       "      <td>standard</td>\n",
       "      <td>yes</td>\n",
       "      <td>passed</td>\n",
       "      <td>78</td>\n",
       "      <td>passed</td>\n",
       "      <td>73</td>\n",
       "      <td>passed</td>\n",
       "      <td>68</td>\n",
       "      <td>good standing</td>\n",
       "      <td>good standing</td>\n",
       "      <td>73.00</td>\n",
       "    </tr>\n",
       "  </tbody>\n",
       "</table>\n",
       "</div>"
      ],
      "text/plain": [
       "  gender ethnicity parental_education     lunch test_preparation_course  \\\n",
       "0      M         A        high school  standard                     yes   \n",
       "1      F         D     no high school   reduced                      no   \n",
       "2      M         E        high school   reduced                      no   \n",
       "3      M         B        high school  standard                      no   \n",
       "4      M         E          associate  standard                     yes   \n",
       "\n",
       "  pass/fail_math  math_score pass/fail_reading  reading_score  \\\n",
       "0         passed          67            passed             67   \n",
       "1         failed          40            failed             59   \n",
       "2         failed          59            passed             60   \n",
       "3         passed          77            passed             78   \n",
       "4         passed          78            passed             73   \n",
       "\n",
       "  pass/fail_writing  writing_score failed_courses midterm_results  \\\n",
       "0            passed             63  good standing   good standing   \n",
       "1            failed             55   math/reading   summer school   \n",
       "2            failed             50   math/writing   summer school   \n",
       "3            passed             68  good standing   good standing   \n",
       "4            passed             68  good standing   good standing   \n",
       "\n",
       "   average_grade  \n",
       "0          65.67  \n",
       "1          51.33  \n",
       "2          56.33  \n",
       "3          74.33  \n",
       "4          73.00  "
      ]
     },
     "execution_count": 2,
     "metadata": {},
     "output_type": "execute_result"
    }
   ],
   "source": [
    "data = pd.read_csv('../../data/clean/data_cleaned.csv')\n",
    "\n",
    "data.head()"
   ]
  },
  {
   "cell_type": "markdown",
   "id": "ec28c751",
   "metadata": {},
   "source": [
    "### X/y and numerical/categorical split:"
   ]
  },
  {
   "cell_type": "code",
   "execution_count": 3,
   "id": "7540d2b8",
   "metadata": {},
   "outputs": [],
   "source": [
    "X = data.drop(['pass/fail_math', 'pass/fail_reading', 'pass/fail_writing', 'math_score', \n",
    "               'reading_score', 'writing_score', 'average_grade', 'midterm_results', 'failed_courses'], axis=1)\n",
    "y = data['midterm_results']\n",
    "\n",
    "X_train, X_test, y_train, y_test = train_test_split(X, y, test_size=0.3, random_state=42)\n",
    "\n",
    "#X_train_numerical = X_train.select_dtypes(np.number)\n",
    "#X_test_numerical = X_test.select_dtypes(np.number)\n",
    "\n",
    "X_train_categorical = X_train.select_dtypes(object)\n",
    "X_test_categorical = X_test.select_dtypes(object)"
   ]
  },
  {
   "cell_type": "markdown",
   "id": "53614c9c",
   "metadata": {},
   "source": [
    "### Encoding categoricals:"
   ]
  },
  {
   "cell_type": "code",
   "execution_count": 4,
   "id": "26e305db",
   "metadata": {},
   "outputs": [],
   "source": [
    "encoder = OneHotEncoder()\n",
    "encoder.fit(X_train_categorical)\n",
    "\n",
    "X_train_cat_enc = encoder.transform(X_train_categorical).toarray()\n",
    "X_train_final = pd.DataFrame(X_train_cat_enc, columns=encoder.get_feature_names_out())\n",
    "\n",
    "X_test_cat_enc = encoder.transform(X_test_categorical).toarray()\n",
    "X_test_final = pd.DataFrame(X_test_cat_enc, columns=encoder.get_feature_names_out())"
   ]
  },
  {
   "cell_type": "markdown",
   "id": "31d96f68",
   "metadata": {},
   "source": [
    "### Finding the best K-value:"
   ]
  },
  {
   "cell_type": "code",
   "execution_count": 5,
   "id": "1c2231af",
   "metadata": {},
   "outputs": [],
   "source": [
    "def find_k(X_train, X_test, y_train, y_test, max_k=16):\n",
    "    \n",
    "    scores = []\n",
    "    for k in range(2,max_k+1):\n",
    "        model = KNeighborsClassifier(n_neighbors=k)\n",
    "        model.fit(X_train, y_train)\n",
    "        score = model.score(X_test, y_test)\n",
    "        scores.append(score)\n",
    "        \n",
    "    plt.figure(figsize=(4,4))\n",
    "    plt.plot(range(2, max_k+1), scores, marker='d', markersize=7)\n",
    "    plt.title('Accuracy vs K-value')\n",
    "    plt.xlabel('k')\n",
    "    plt.ylabel('Accuracy')\n",
    "    plt.xticks(range(1, max_k+1))"
   ]
  },
  {
   "cell_type": "code",
   "execution_count": 6,
   "id": "8627a83d",
   "metadata": {},
   "outputs": [
    {
     "data": {
      "image/png": "[encoded data removed]",
      "text/plain": [
       "<Figure size 288x288 with 1 Axes>"
      ]
     },
     "metadata": {
      "needs_background": "light"
     },
     "output_type": "display_data"
    }
   ],
   "source": [
    "find_k(X_train_final, X_test_final, y_train, y_test, max_k=16)"
   ]
  },
  {
   "cell_type": "markdown",
   "id": "936eff03",
   "metadata": {},
   "source": [
    "k = 3 has the highest Accuracy score."
   ]
  },
  {
   "cell_type": "markdown",
   "id": "c6d2deff",
   "metadata": {},
   "source": [
    "### KNeighborsClassifier:"
   ]
  },
  {
   "cell_type": "code",
   "execution_count": 7,
   "id": "55549828",
   "metadata": {},
   "outputs": [],
   "source": [
    "knn = KNeighborsClassifier(3, weights='distance')"
   ]
  },
  {
   "cell_type": "code",
   "execution_count": 8,
   "id": "dbd51a0d",
   "metadata": {},
   "outputs": [
    {
     "data": {
      "text/plain": [
       "KNeighborsClassifier(n_neighbors=3, weights='distance')"
      ]
     },
     "execution_count": 8,
     "metadata": {},
     "output_type": "execute_result"
    }
   ],
   "source": [
    "knn.fit(X_train_final, y_train)"
   ]
  },
  {
   "cell_type": "markdown",
   "id": "55f25faa",
   "metadata": {},
   "source": [
    "### Predictions:"
   ]
  },
  {
   "cell_type": "code",
   "execution_count": 9,
   "id": "099c5d84",
   "metadata": {},
   "outputs": [],
   "source": [
    "y_train_pred = knn.predict(X_train_final)\n",
    "y_test_pred = knn.predict(X_test_final)"
   ]
  },
  {
   "cell_type": "markdown",
   "id": "c733d04c",
   "metadata": {},
   "source": [
    "### Validating the model:"
   ]
  },
  {
   "cell_type": "code",
   "execution_count": 10,
   "id": "ed8a2dd5",
   "metadata": {},
   "outputs": [],
   "source": [
    "def model_performance_classification(y_train, y_train_pred, y_test, y_test_pred):\n",
    "\n",
    "    accuracy_train = accuracy_score(y_train,y_train_pred)\n",
    "    accuracy_test  = accuracy_score(y_test,y_test_pred)\n",
    "\n",
    "    precision_train = precision_score(y_train,y_train_pred, pos_label='summer school')\n",
    "    precision_test  = precision_score(y_test,y_test_pred, pos_label='summer school')\n",
    "\n",
    "    recall_train = recall_score(y_train,y_train_pred, pos_label='summer school')\n",
    "    recall_test  = recall_score(y_train,y_train_pred, pos_label='summer school')\n",
    "\n",
    "    f1_train = f1_score(y_train,y_train_pred, pos_label='summer school')\n",
    "    f1_test  = f1_score(y_train,y_train_pred, pos_label='summer school')\n",
    "    \n",
    "    kappa_train = cohen_kappa_score(y_train, y_train_pred)\n",
    "    kappa_test = cohen_kappa_score(y_test, y_test_pred)\n",
    "\n",
    "    performance = pd.DataFrame({'Error_metric': ['Accuracy score','Precision score','Recall score',\n",
    "                                                 'F1 score', 'Kappa score'],\n",
    "                            'Train': [accuracy_train, precision_train, recall_train, f1_train, kappa_train],\n",
    "                            'Test' : [accuracy_test, precision_test, recall_test, f1_test, kappa_test]})\n",
    "\n",
    "    pd.options.display.float_format = '{:.2f}'.format\n",
    "\n",
    "    df_train = pd.DataFrame({'Real': y_train.tolist(), 'Predicted': y_train_pred.tolist()})\n",
    "    df_test  = pd.DataFrame({'Real': y_test.tolist(),  'Predicted': y_test_pred.tolist()})\n",
    "\n",
    "    return performance, df_train, df_test"
   ]
  },
  {
   "cell_type": "code",
   "execution_count": 11,
   "id": "dd81647c",
   "metadata": {},
   "outputs": [
    {
     "data": {
      "text/plain": [
       "(      Error_metric  Train  Test\n",
       " 0   Accuracy score   0.75  0.65\n",
       " 1  Precision score   0.69  0.52\n",
       " 2     Recall score   0.75  0.75\n",
       " 3         F1 score   0.72  0.72\n",
       " 4      Kappa score   0.49  0.28,\n",
       "               Real      Predicted\n",
       " 0    good standing  good standing\n",
       " 1    summer school  summer school\n",
       " 2    good standing  good standing\n",
       " 3    summer school  summer school\n",
       " 4    summer school  summer school\n",
       " ..             ...            ...\n",
       " 695  good standing  good standing\n",
       " 696  good standing  summer school\n",
       " 697  good standing  summer school\n",
       " 698  good standing  summer school\n",
       " 699  good standing  good standing\n",
       " \n",
       " [700 rows x 2 columns],\n",
       "               Real      Predicted\n",
       " 0    good standing  summer school\n",
       " 1    good standing  good standing\n",
       " 2    summer school  good standing\n",
       " 3    good standing  summer school\n",
       " 4    good standing  good standing\n",
       " ..             ...            ...\n",
       " 295  good standing  summer school\n",
       " 296  good standing  good standing\n",
       " 297  summer school  summer school\n",
       " 298  good standing  good standing\n",
       " 299  summer school  summer school\n",
       " \n",
       " [300 rows x 2 columns])"
      ]
     },
     "execution_count": 11,
     "metadata": {},
     "output_type": "execute_result"
    }
   ],
   "source": [
    "model_performance_classification(y_train, y_train_pred, y_test, y_test_pred)"
   ]
  },
  {
   "cell_type": "markdown",
   "id": "e2cbf3fc",
   "metadata": {},
   "source": [
    "### Saving the model:"
   ]
  },
  {
   "cell_type": "code",
   "execution_count": 15,
   "id": "9dbe5c3a",
   "metadata": {},
   "outputs": [],
   "source": [
    "pickle.dump(knn, open('knn_classifier.pkl', 'wb'))"
   ]
  },
  {
   "cell_type": "code",
   "execution_count": null,
   "id": "86551367",
   "metadata": {},
   "outputs": [],
   "source": []
  }
 ],
 "metadata": {
  "kernelspec": {
   "display_name": "FinalBootcampProject",
   "language": "python",
   "name": "finalbootcampproject"
  },
  "language_info": {
   "codemirror_mode": {
    "name": "ipython",
    "version": 3
   },
   "file_extension": ".py",
   "mimetype": "text/x-python",
   "name": "python",
   "nbconvert_exporter": "python",
   "pygments_lexer": "ipython3",
   "version": "3.9.12"
  }
 },
 "nbformat": 4,
 "nbformat_minor": 5
}
